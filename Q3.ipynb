{
  "nbformat": 4,
  "nbformat_minor": 0,
  "metadata": {
    "colab": {
      "name": "Q3",
      "provenance": [],
      "authorship_tag": "ABX9TyMQWft2kbxUiik0w9IzcCAi",
      "include_colab_link": true
    },
    "kernelspec": {
      "name": "python3",
      "display_name": "Python 3"
    },
    "language_info": {
      "name": "python"
    }
  },
  "cells": [
    {
      "cell_type": "markdown",
      "metadata": {
        "id": "view-in-github",
        "colab_type": "text"
      },
      "source": [
        "<a href=\"https://colab.research.google.com/github/suvrashaw/4thsemAIML/blob/prime/Q3.ipynb\" target=\"_parent\"><img src=\"https://colab.research.google.com/assets/colab-badge.svg\" alt=\"Open In Colab\"/></a>"
      ]
    },
    {
      "cell_type": "code",
      "metadata": {
        "id": "7oM1ACdfQ49f"
      },
      "source": [
        "#i\n",
        "from sklearn.datasets import load_digits\n",
        "digits = load_digits()"
      ],
      "execution_count": 1,
      "outputs": []
    },
    {
      "cell_type": "code",
      "metadata": {
        "id": "m4oHA4dhYMPz"
      },
      "source": [
        "#ii\n",
        "from sklearn.model_selection import train_test_split\n",
        "x_train_1,x_test_1,y_train_1,y_test_1=train_test_split(digits.data,digits.target,test_size=0.25)"
      ],
      "execution_count": 2,
      "outputs": []
    },
    {
      "cell_type": "code",
      "metadata": {
        "colab": {
          "base_uri": "https://localhost:8080/"
        },
        "id": "UpfH-l4ekpM_",
        "outputId": "7da97db2-b6e6-4436-f21f-07c5048913f8"
      },
      "source": [
        "#iii\n",
        "print(load_digits().data[55])"
      ],
      "execution_count": 3,
      "outputs": [
        {
          "output_type": "stream",
          "text": [
            "[ 0.  0.  2. 14. 15.  5.  0.  0.  0.  0. 10. 16. 16. 15.  1.  0.  0.  3.\n",
            " 16. 10. 10. 16.  4.  0.  0.  5. 16.  0.  0. 14.  6.  0.  0.  5. 16.  6.\n",
            "  0. 12.  7.  0.  0.  1. 15. 13.  4. 13.  6.  0.  0.  0. 11. 16. 16. 15.\n",
            "  0.  0.  0.  0.  2. 11. 13.  4.  0.  0.]\n"
          ],
          "name": "stdout"
        }
      ]
    },
    {
      "cell_type": "code",
      "metadata": {
        "colab": {
          "base_uri": "https://localhost:8080/",
          "height": 283
        },
        "id": "Rf6joxqJmx4K",
        "outputId": "c45a90ee-622c-4a36-9155-3deb18b2cf94"
      },
      "source": [
        "import numpy as np\n",
        "import matplotlib.pyplot as plt\n",
        "plt.imshow(np.reshape(load_digits().data[55],(8,8)), cmap='gray')"
      ],
      "execution_count": 4,
      "outputs": [
        {
          "output_type": "execute_result",
          "data": {
            "text/plain": [
              "<matplotlib.image.AxesImage at 0x7fe6d5779dd0>"
            ]
          },
          "metadata": {
            "tags": []
          },
          "execution_count": 4
        },
        {
          "output_type": "display_data",
          "data": {
            "image/png": "[encoded data removed]",
            "text/plain": [
              "<Figure size 432x288 with 1 Axes>"
            ]
          },
          "metadata": {
            "tags": [],
            "needs_background": "light"
          }
        }
      ]
    },
    {
      "cell_type": "code",
      "metadata": {
        "id": "LcnPZ-IxS-Dl"
      },
      "source": [
        "#iv\n",
        "from keras.utils import to_categorical\n",
        "x_train_1 = to_categorical(x_train_1)\n",
        "x_test_1 = to_categorical(x_test_1)\n",
        "y_train_1 = to_categorical(y_train_1)\n",
        "y_test_1 = to_categorical(y_test_1)"
      ],
      "execution_count": 5,
      "outputs": []
    },
    {
      "cell_type": "code",
      "metadata": {
        "id": "6eo1tpQdq4q6"
      },
      "source": [
        "#v\n",
        "from keras.models import Sequential\n",
        "from keras.layers import Dense, Conv2D, Flatten, MaxPooling2D\n",
        "model = Sequential([Conv2D(32, 4, input_shape=(8, 8, 1)),MaxPooling2D(pool_size=2),Flatten(),Dense(10, activation='softmax'),])"
      ],
      "execution_count": 6,
      "outputs": []
    },
    {
      "cell_type": "code",
      "metadata": {
        "id": "tOoPIUGCxiZr"
      },
      "source": [
        "#vi\n",
        "model.compile(optimizer='adam', loss='categorical_crossentropy', metrics=['accuracy'])"
      ],
      "execution_count": 7,
      "outputs": []
    },
    {
      "cell_type": "code",
      "metadata": {
        "id": "3NcyLtqyxxQs"
      },
      "source": [
        "#vii\n",
        "model.fit(x_train_1,y_train_1,validation_data=(x_test_1,y_test_1),epochs=8)"
      ],
      "execution_count": null,
      "outputs": []
    }
  ]
}